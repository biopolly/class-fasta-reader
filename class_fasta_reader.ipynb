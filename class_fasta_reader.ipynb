{
  "nbformat": 4,
  "nbformat_minor": 0,
  "metadata": {
    "colab": {
      "provenance": []
    },
    "kernelspec": {
      "name": "python3",
      "display_name": "Python 3"
    },
    "language_info": {
      "name": "python"
    }
  },
  "cells": [
    {
      "cell_type": "markdown",
      "source": [
        "MCL1. Ген кодирует белок MCL-1, который необходим для нормального функционирования стволовых клеток волосяных фолликулов, без которых невозможен рост волос"
      ],
      "metadata": {
        "id": "JNARZM3dDt4U"
      }
    },
    {
      "cell_type": "code",
      "source": [
        "class Seq:\n",
        "    \"\"\"\n",
        "    класс для представления биологической последовательности\n",
        "\n",
        "    sequence  нуклеотидная или аминокислотная последовательность\n",
        "    header заголовок FASTA записи (информация о последовательности)\n",
        "    \"\"\"\n",
        "\n",
        "    def __init__(self, sequence, header=\"\"):\n",
        "\n",
        "        self.sequence = sequence\n",
        "        self.header = header\n",
        "\n",
        "    def __str__(self):\n",
        "\n",
        "        return f\">{self.header}\\n{self.sequence}\" #строковое представление последовательности\n",
        "\n",
        "    def __len__(self):\n",
        "\n",
        "        return len(self.sequence)\n",
        "\n",
        "    def alphabet(self):\n",
        "        \"\"\"\n",
        "        определяет тип последовательности нукл или протеин\n",
        "\n",
        "        \"\"\"\n",
        "        nucleotides = set(\"ATGCU\")\n",
        "        amino_acids = set(\"ACDEFGHIKLMNPQRSTVWY\")\n",
        "\n",
        "        seq_set = set(self.sequence)\n",
        "\n",
        "        if seq_set.issubset(nucleotides): #проверка что одно множество может быть подмножеством другого\n",
        "            return \"nucleotide\"\n",
        "        elif seq_set.issubset(amino_acids):\n",
        "            return \"protein\"\n",
        "        else:\n",
        "            return \"unknown\"\n",
        "\n",
        "\n",
        "class FastaReader:\n",
        "    \"\"\"\n",
        "    класс для чтения FASTA файлов\n",
        "    \"\"\"\n",
        "\n",
        "    def is_fasta(self, rna):\n",
        "        \"\"\"\n",
        "        проверяет является ли файл FASTA файлом анализируя первую строку\n",
        "\n",
        "        \"\"\"\n",
        "        with open(rna, 'r') as f:\n",
        "            first_line = f.readline().strip()\n",
        "            return first_line.startswith(\">\")\n",
        "\n",
        "    def read_records(self, rna):\n",
        "        \"\"\"\n",
        "        читает FASTA файл по записям\n",
        "        + генератор чтобы не случился stack over flow\n",
        "\n",
        "        \"\"\"\n",
        "\n",
        "\n",
        "        header = None\n",
        "        sequence = \"\"\n",
        "\n",
        "        with open(rna, 'r') as f:\n",
        "            for line in f:\n",
        "                line = line.strip()\n",
        "                if line.startswith(\">\"): # идентификатор фасты\n",
        "                    if header: #если это не первая запись\n",
        "                        yield Seq(sequence, header) # seq генератор, представляющий одну FASTA запись\n",
        "                    header = line[1:] # удалям символ > в начале\n",
        "                    sequence = \"\" # сброс\n",
        "                else:\n",
        "                    sequence += line\n",
        "\n",
        "            if header:\n",
        "                yield Seq(sequence, header)\n",
        "\n",
        "\n",
        "if __name__ == \"__main__\":\n",
        "    rna = \"rna.fna\"\n",
        "    reader = FastaReader()\n",
        "    for record in reader.read_records(rna):\n",
        "\n",
        "        print(f\" length: {len(record)}\")\n",
        "        print(f\" bio type : {record.alphabet()}\")\n",
        "\n"
      ],
      "metadata": {
        "colab": {
          "base_uri": "https://localhost:8080/"
        },
        "id": "tfk-1Yn3LXsw",
        "outputId": "ede0b17e-9b2b-4899-d733-598991163e6d"
      },
      "execution_count": 21,
      "outputs": [
        {
          "output_type": "stream",
          "name": "stdout",
          "text": [
            " length: 3491\n",
            " bio type : nucleotide\n",
            " length: 3950\n",
            " bio type : nucleotide\n",
            " length: 3702\n",
            " bio type : nucleotide\n"
          ]
        }
      ]
    }
  ]
}